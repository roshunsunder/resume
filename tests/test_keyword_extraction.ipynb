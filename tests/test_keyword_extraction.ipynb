{
 "cells": [
  {
   "cell_type": "code",
   "execution_count": 1,
   "metadata": {},
   "outputs": [],
   "source": [
    "%load_ext autoreload\n",
    "%autoreload 2"
   ]
  },
  {
   "cell_type": "code",
   "execution_count": 2,
   "metadata": {},
   "outputs": [],
   "source": [
    "import sys\n",
    "\n",
    "sys.path.append('../src/')"
   ]
  },
  {
   "cell_type": "code",
   "execution_count": 12,
   "metadata": {},
   "outputs": [
    {
     "data": {
      "text/plain": [
       "[\"Virtu is an industry-leading financial technology firm that operates both proprietary trading and client-facing businesses in the global financial marketplace. Our cutting edge, proprietary technology is core to everything we do. We trade in over 35 countries, across 235 financial exchanges and over 25% of retail order flow in the US. is serviced by Virtu. \\n \\nOur team is a dedicated group of traders, quants and developers that are inspired by the unique and exciting challenges we solve every day. Our culture combines the creativity of a fast paced start up, with the stability of a disciplined financial services firm. We are a flat organization and encourage our people to innovate and lean on their teammates for support and collaboration. We have fun, work hard and strive to be virtuous in all we do. \\nDEVELOPER INTERNSHIP\\nVirtu's internship program offers students an extraordinary opportunity to learn about the firm and the world’s financial markets. We have built a thoughtful and challenging curriculum that introduces students to all aspects of Virtu's business through a company-curated global training week, real world development projects to complete and engaging social events to get to know our team and culture. \\nLocation: Austin, New York\\nDates: 10 week program, starting June 10th, 2024 - August 16th, 2024 (with flexibility if needed)\\nTraining: Ongoing training throughout the summer and a training week held in New York or Austin \\nProjects: Real problems to solve throughout the program. Interns will work from a list of projects and have several senior mentors throughout the summer program.\\nOur development team is a highly talented group of versatile software engineers. These engineers are responsible for the design, development and optimization of our proprietary, low-latency trading systems as well as our propriety trading algorithms. This team also creates powerful trading tools, which facilitate all trading stages of our high-performance system which is deployed in financial marketplaces around the world.\\n\\nAs an intern, you will complete a variety of challenging development projects. You'll work alongside our senior team to improve scalability, performance and efficiency of our cutting edge trading systems. This is a rare opportunity for students to learn first hand how to design and architect a trading system for scale and to support the massive amounts of data that flow through Virtu's trading systems daily.   \\n\\nREQUIREMENTS\\nExcellent academic background in Computer Science, Electrical Engineering or related field\\nStrong programming skills in Python and either Java or C++\\nExperience with Javascript a plus\\nSome lower level programming experience a plus but not required\\nOutstanding quantitative problem‐solving skills and mathematical aptitude\\nBeing comfortable with a wide variety of projects (frontend/backend, different programming languages)\\nA physicalizer; a person who identifies issues and creates solutions without rigid direction or fanfare\\nHighly motivated and tenacious individual, with a proven ability to take initiative and work independently and within a team\\nTeam player: authentic, genuine person who is capable of working collective goals.\\nTHE PROCESS\\n \\nAfter applicants pass an initial resume screening, an online programming test will be sent via email. This test is from a service called Codility so please be on the lookout. After passing the programming test, we will contact you to arrange a phone screen. We are looking forward to meeting you!\\n \\nSalary Range: $3,000 - $4500 weekly (salary range is exclusive of sign on bonuses, housing, meals, benefits or any other forms of compensation) \",\n",
       " 'Who we are\\nAbout Stripe\\nStripe is a financial infrastructure platform for businesses. Millions of companies—from the world’s largest enterprises to the most ambitious startups—use Stripe to accept payments, grow their revenue, and accelerate new business opportunities. Our mission is to increase the GDP of the internet, and we have a staggering amount of work ahead. That means you have an unprecedented opportunity to put the global economy within everyone’s reach while doing the most important work of your career.\\n\\nAbout the team\\nOur internship program will provide an opportunity to work on meaningful products that will grow the GDP of the internet. Through the internship, you will work with many systems and technologies, gain experience in systems design and testing, and have opportunities to present your work to your team and the wider org. Each intern has a dedicated intern manager, and every project is part of the team’s roadmap and will directly help Stripe’s mission.\\n\\nWhat you’ll do\\nEvery internship at Stripe centers around a real, legitimate project that our customers urgently need, touching many parts of our operations and stack. We will support you in shipping it. Yes, you will actually ship it. Some recent projects include rebuilding our statistics aggregation service, building new service discovery systems, and many user facing projects like making it easy to understand error messages on Stripe Checkout. As a Stripe intern, you\\'ll be tackling important projects to increase global commerce, while working alongside exceptional people who insist on doing their best work. You’ll learn from people with high standards who are great at inspiring others to do more and go further. We value technical and personal growth, and see our internship program as a vehicle to foster both.\\n\\nResponsibilities\\nWrite software that will be used in production, and has meaningful impact to Stripe\\nGive and receive technical feedback through code reviews or design discussions\\nCollaborate with other engineers and cross-functional stakeholders to proactively seek and incorporate feedback\\nLearn quickly by asking great questions, by working with your intern manager and teammates effectively, and by communicating the status of your work clearly\\nWho you are\\nWe’re looking for someone who meets the minimum requirements to be considered for the role. If you meet these requirements, you are encouraged to apply. The preferred qualifications are a bonus, not a requirement.\\n\\nMinimum requirements\\nA strong fundamental understanding of computer science through pursuit of a Bachelor’s, Master’s, or PhD degree in computer science, math, or a related discipline\\nSome experience and familiarity with programming, either through side projects or classwork. We work mostly in Java, Ruby, JavaScript, Scala, and Go. We believe new programming languages can be learned if the fundamentals and general knowledge are present\\nExperience from previous internships or other multi-person projects, including open source contributions, that demonstrate evaluating and receiving feedback from mentors, peers, and stakeholders\\nAbility to learn unfamiliar systems and form an understanding of those systems, through independent research and working with a mentor and subject matter experts\\nPreferred qualifications\\nAt least 2 years of university education, or equivalent work experience\\nOne or more areas of specialized knowledge balanced with general skills and knowledge, such as knowing more frontend technologies and, at a high level, how a service handles an HTTP request\\nUnderstanding and some experience writing high quality pull requests, with good test coverage, and working knowledge to complete projects with minimal defects\\nFamiliarity with navigating and managing your work in new code bases, with multiple languages\\nAbility to write clearly to explain your work to stakeholders, team members, and other Stripes\\n\\nPay and benefits\\nThe annual US base salary range for this role is $123,500 - $123,500. For sales roles, the range provided is the role’s On Target Earnings (\"OTE\") range, meaning that the range includes both the sales commissions/sales bonuses target and annual base salary for the role. This salary range may be inclusive of several career levels at Stripe and will be narrowed during the interview process based on a number of factors, including the candidate’s experience, qualifications, and location. Applicants interested in this role and who are not located in the US may request the annual salary range for their location during the interview process.\\n\\nAdditional benefits for this role may include: equity, company bonus or sales commissions/bonuses; 401(k) plan; medical, dental, and vision benefits; and wellness stipends.']"
      ]
     },
     "execution_count": 12,
     "metadata": {},
     "output_type": "execute_result"
    }
   ],
   "source": [
    "test_postings = open(\"test_postings.txt\", \"r\").read().split(\"\\n\\n### DELIM ###\\n\\n\")\n",
    "test_postings"
   ]
  },
  {
   "cell_type": "code",
   "execution_count": 14,
   "metadata": {},
   "outputs": [
    {
     "name": "stdout",
     "output_type": "stream",
     "text": [
      "{\n",
      "  \"technical_keywords\": [\n",
      "    \"proprietary trading\",\n",
      "    \"financial exchanges\",\n",
      "    \"retail order flow\",\n",
      "    \"traders\",\n",
      "    \"quants\",\n",
      "    \"developers\",\n",
      "    \"software engineers\",\n",
      "    \"low-latency trading systems\",\n",
      "    \"trading algorithms\",\n",
      "    \"trading tools\",\n",
      "    \"scalability\",\n",
      "    \"performance\",\n",
      "    \"efficiency\",\n",
      "    \"data\",\n",
      "    \"Computer Science\",\n",
      "    \"Electrical Engineering\",\n",
      "    \"Python\",\n",
      "    \"Java\",\n",
      "    \"C++\",\n",
      "    \"Javascript\",\n",
      "    \"programming experience\",\n",
      "    \"frontend/backend\",\n",
      "    \"mathematical aptitude\"\n",
      "  ],\n",
      "  \"interpersonal_keywords\": [\n",
      "    \"teamwork\",\n",
      "    \"collaboration\",\n",
      "    \"innovation\",\n",
      "    \"support\",\n",
      "    \"fun\",\n",
      "    \"hard work\",\n",
      "    \"virtuous\",\n",
      "    \"tenacity\",\n",
      "    \"initiative\",\n",
      "    \"independence\",\n",
      "    \"team player\",\n",
      "    \"authenticity\",\n",
      "    \"genuineness\",\n",
      "    \"collective goals\"\n",
      "  ]\n",
      "}\n",
      "{\n",
      "  \"technical_keywords\": [\n",
      "    \"computer science\",\n",
      "    \"programming\",\n",
      "    \"Java\",\n",
      "    \"Ruby\",\n",
      "    \"JavaScript\",\n",
      "    \"Scala\",\n",
      "    \"Go\",\n",
      "    \"open source contributions\",\n",
      "    \"unfamiliar systems\",\n",
      "    \"specialized knowledge\",\n",
      "    \"frontend technologies\",\n",
      "    \"HTTP request\",\n",
      "    \"pull requests\",\n",
      "    \"test coverage\",\n",
      "    \"code bases\",\n",
      "    \"multiple languages\"\n",
      "  ],\n",
      "  \"interpersonal_keywords\": [\n",
      "    \"feedback\",\n",
      "    \"mentors\",\n",
      "    \"peers\",\n",
      "    \"stakeholders\",\n",
      "    \"communication\",\n",
      "    \"writing\",\n",
      "    \"explaining\",\n",
      "    \"teamwork\"\n",
      "  ]\n",
      "}\n"
     ]
    }
   ],
   "source": [
    "from keywords import Keywords\n",
    "\n",
    "for _posting in test_postings:\n",
    "    _extract_keywords_prompt = \"\"\"You are an expert resume builder. You are tasked with extracting technical and interpersonal \\\n",
    "keyword terms from a job posting. \n",
    "\n",
    "Extract the important entities mentioned in the text below in JSON with the following keys:\n",
    "- technical_keywords\n",
    "- interpersonal_keywords\n",
    "\n",
    "The technical keywords should include all technical skills, experiences, and qualifications mentioned in the job posting. \\\n",
    "The interpersonal keywords should include soft skills, interpersonal skills, and other non-technical skills mentioned in the job posting.\n",
    "\n",
    "### Job Posting: \n",
    "{job_posting_content}\n",
    "\n",
    "### Keywords in JSON: \"\"\"\n",
    "\n",
    "    kw_extractor = Keywords()\n",
    "    test_output = kw_extractor.extract_keywords_from_posting(_extract_keywords_prompt, _posting)\n",
    "\n",
    "    print(test_output)"
   ]
  }
 ],
 "metadata": {
  "kernelspec": {
   "display_name": "ml_env",
   "language": "python",
   "name": "python3"
  },
  "language_info": {
   "codemirror_mode": {
    "name": "ipython",
    "version": 3
   },
   "file_extension": ".py",
   "mimetype": "text/x-python",
   "name": "python",
   "nbconvert_exporter": "python",
   "pygments_lexer": "ipython3",
   "version": "3.9.16"
  },
  "orig_nbformat": 4
 },
 "nbformat": 4,
 "nbformat_minor": 2
}
